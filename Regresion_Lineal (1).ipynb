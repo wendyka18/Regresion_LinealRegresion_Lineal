{
  "cells": [
    {
      "cell_type": "markdown",
      "metadata": {
        "id": "Ii_7DdtJH8e2"
      },
      "source": [
        "# Taller 3: Regresión Lineal y Conceptos Fundamentales\n",
        "\n",
        "\n"
      ],
      "id": "Ii_7DdtJH8e2"
    },
    {
      "cell_type": "markdown",
      "metadata": {
        "id": "1KuTZ6PkH8e5"
      },
      "source": [
        "## Instrucciones Generales\n",
        "\n",
        "**Fecha de entrega:** 20 de septiembre.\n",
        "**Tiempo disponible:** Tienen dos clases y el fin de semana para completar el taller.\n",
        "\n",
        "1.  **Trabajo en Grupo:** Este taller se debe realizar en los grupos previamente definidos.\n",
        "2.  **Repositorio en GitHub:** Cada grupo debe crear un repositorio en GitHub.\n",
        "    * Una sola persona del grupo es responsable de crearlo.\n",
        "    * El repositorio debe llamarse **`Regresion_Lineal`**.\n",
        "    * Este archivo debe ser subido al repositorio con el nombre **`Regresion_Lineal.ipynb`**.\n",
        "    * **Alternativa:** Si tienen complicaciones con GitHub, pueden enviar el enlace del cuaderno de Google Colab al aula virtual.\n",
        "3.  **Actividad a Mano (20% de la nota):**\n",
        "    * La asistencia a clase es **obligatoria**.\n",
        "    * Se realizará una actividad práctica de regresión lineal a mano.\n",
        "    * Cada integrante del grupo deberá firmar la hoja de la actividad, la cual constituye el 20% de la nota de este taller."
      ],
      "id": "1KuTZ6PkH8e5"
    },
    {
      "cell_type": "markdown",
      "metadata": {
        "id": "mgaEeFAbH8e7"
      },
      "source": [
        "---"
      ],
      "id": "mgaEeFAbH8e7"
    },
    {
      "cell_type": "markdown",
      "metadata": {
        "id": "et22XL5bH8e7"
      },
      "source": [
        "## **Parte 1: Definición del Problema**\n",
        "\n",
        "Piensa en tu experiencia académica o laboral en un área de operaciones y elige **un problema** relacionado con inventarios, calidad, mantenimiento o productividad.\n",
        "\n",
        "1.  Indica cuál es tu variable dependiente **$Y$** (aquello que quieres predecir o clasificar).\n",
        "2.  Lista entre 3 y 5 variables independientes **$X$** que medirías para predecir $Y$.\n",
        "3.  Especifica si tu problema es de **regresión** (predecir un valor numérico) o de **clasificación**."
      ],
      "id": "et22XL5bH8e7"
    },
    {
      "cell_type": "markdown",
      "metadata": {
        "id": "pxSLPR4AH8e8"
      },
      "source": [
        "**Respuesta (escribe aquí):**\n",
        "\n",
        "\n",
        "**Respuesta 1:** Variable dependiente\n",
        "\n",
        "Y: Nivel de inventario final en almacén (cantidad de unidades al cierre de cada ciclo operativo)\n",
        "\n",
        "\n",
        "**Respuesta 2:** Variables independientes\n",
        "X\n",
        "X:\n",
        "\n",
        "Demanda registrada por período (número de unidades solicitadas).\n",
        "\n",
        "Tiempo de reposición (días que tarda el proveedor en entregar la mercancía).\n",
        "\n",
        "Volumen de pedidos (cantidad ordenada en cada solicitud).\n",
        "\n",
        "Frecuencia de errores en recepción (número de incidencias detectadas por ciclo).\n",
        "\n",
        "Tipo de producto (categoría o familia del artículo)\n",
        "\n",
        "\n",
        "**Respuesta 3:** Especificación del problema: Es un problema de regresión porque el objetivo es predecir un valor numérico (el nivel de inventario final)."
      ],
      "id": "pxSLPR4AH8e8"
    },
    {
      "cell_type": "markdown",
      "metadata": {
        "id": "fGoj1KxxH8e8"
      },
      "source": [
        "---"
      ],
      "id": "fGoj1KxxH8e8"
    },
    {
      "cell_type": "markdown",
      "metadata": {
        "id": "eHOtOSQiH8e9"
      },
      "source": [
        "## **Parte 2: Preprocesamiento de Datos y *Leakage***\n",
        "\n",
        "Basado en el caso que definiste en la Parte 1:\n",
        "\n",
        "1.  Lista entre 3 y 5 **transformaciones** que aplicarías a tus datos (ej. imputación de valores faltantes, codificación de variables categóricas, escalado, creación de *lags*, etc.) y **justifica por qué** cada una es necesaria.\n",
        "2.  Señala un posible riesgo de ***data leakage*** (fuga de datos) en tu plan y explica cómo lo evitarías usando un *pipeline* de preprocesamiento."
      ],
      "id": "eHOtOSQiH8e9"
    },
    {
      "cell_type": "markdown",
      "metadata": {
        "id": "6KYkmr9mH8e9"
      },
      "source": [
        "**Respuesta (escribe aquí):** Transformaciones y Justificación\n",
        "Imputación de valores faltantes: Es fundamental manejar valores nulos en variables como inventario, tiempo de procesamiento o demanda, ya que los modelos no aceptan valores vacíos y su ausencia podría sesgar los resultados.\n",
        "\n",
        "Codificación de variables categóricas: Si existen variables como tipo de producto, turno de trabajo o categoría de almacén, deben convertirse en variables numéricas mediante técnicas como one-hot encoding para que el modelo pueda procesarlas.\n",
        "\n",
        "Escalado de variables: Dado que variables como cantidad producida, tiempos logísticos y costos pueden estar en diferentes escalas, es necesario normalizarlas o estandarizarlas para que ninguna domine el entrenamiento del modelo.\n",
        "\n",
        "Creación de variables de rezago (lags): Antecedentes de demanda o inventario ayudan a capturar patrones temporales, relevantes en la predicción de inventarios o demanda futura.\n",
        "\n",
        "Transformación logarítmica: Si alguna variable presenta una distribución muy sesgada (por ejemplo, costos o volúmenes), aplicar logaritmo puede estabilizar la varianza y mejorar el desempeño del modelo.\n",
        "\n",
        "Riesgo de Data Leakage y Prevención\n",
        "Riesgo de data leakage: Un riesgo común sería imputar valores faltantes utilizando la media o mediana calculada sobre todo el conjunto de datos, incluyendo información del futuro respecto a las observaciones que se están prediciendo.\n",
        "\n",
        "Cómo evitarlo: Para prevenir esta fuga, es indispensable construir un pipeline de preprocesamiento que realice la imputación y estandarización únicamente usando información disponible hasta ese momento (por ejemplo, usando fit solo en los datos de entrenamiento y aplicando después la transformación sobre el conjunto de prueba). Así, solo se utiliza información histórica, no datos futuros ni totales que inducirían una ventaja irreal en la predicción."
      ],
      "id": "6KYkmr9mH8e9"
    },
    {
      "cell_type": "markdown",
      "metadata": {
        "id": "hbyCKrY6H8e-"
      },
      "source": [
        "---"
      ],
      "id": "hbyCKrY6H8e-"
    },
    {
      "cell_type": "markdown",
      "metadata": {
        "id": "ukCTM2EKH8e-"
      },
      "source": [
        "## **Parte 3: Interpretación y Métricas de Regresión Simple**\n",
        "\n",
        "Para esta sección, elige un caso simple de regresión (puede ser el tuyo o uno hipotético, como predecir la demanda de un producto según su precio).\n",
        "\n",
        "1.  Define claramente las variables **$Y$** y **$X$** junto con sus **unidades** (ej. $Y$: número de unidades vendidas, $X$: precio en dólares).\n",
        "2.  Supón que entrenas un modelo y obtienes una pendiente de **$\\hat{\\beta}_1 = -0.6$**. Escribe una interpretación clara y concisa de este coeficiente en el contexto de tu problema.\n",
        "3.  ¿Qué **métrica** de evaluación usarías (MAE, RMSE, o MAPE) y **por qué** es la más adecuada para tu caso?\n",
        "4.  Menciona **un supuesto** del modelo de regresión lineal que validarías (ej. linealidad, homocedasticidad) y explica **cómo** lo harías (usando un gráfico o una prueba estadística)."
      ],
      "id": "ukCTM2EKH8e-"
    },
    {
      "cell_type": "markdown",
      "metadata": {
        "id": "5KGzW8pSH8e_"
      },
      "source": [
        "**Respuesta (escribe aquí):** Aquí tienes una propuesta concreta para la Parte 3, usando un caso típico de inventarios y demanda.\n",
        "\n",
        "### 1. Definición de Variables con Unidades\n",
        "\n",
        "- $$ Y $$: Demanda mensual de un producto, medida en unidades vendidas.\n",
        "- $$ X $$: Precio unitario del producto, medido en pesos colombianos (COP).\n",
        "\n",
        "### 2. Interpretación de la Pendiente $$ \\hat{\\beta}_1 = -0.6 $$\n",
        "\n",
        "Una pendiente de $$ \\hat{\\beta}_1 = -0.6 $$ indica que por cada aumento de un peso en el precio del producto, la demanda mensual disminuye, en promedio, 0.6 unidades. Esto refleja una relación inversa entre precio y demanda: al subir el precio, la cantidad vendida baja.\n",
        "\n",
        "### 3. Métrica de Evaluación y Justificación\n",
        "\n",
        "La métrica seleccionada sería **RMSE (Root Mean Squared Error)** porque penaliza más fuertemente los errores grandes, lo cual es útil en la gestión de inventarios para evitar estimaciones significativamente erróneas que pueden afectar la operación. Permite enfocar el modelo en minimizar las predicciones con mayor impacto.\n",
        "\n",
        "### 4. Supuesto y Validación\n",
        "\n",
        "Un supuesto a validar sería la homocedasticidad (igual varianza de los errores en todos los niveles de $ X $). Esto se puede revisar graficando los residuos del modelo frente a los valores predichos; en el gráfico, los residuos deberían dispersarse uniformemente en todo el rango sin formar patrones evidentes ni “embudos”. También podría realizarse una prueba estadística, como el test de Breusch-Pagan, para confirmar la homocedasticidad.\n",
        "\n"
      ],
      "id": "5KGzW8pSH8e_"
    },
    {
      "cell_type": "markdown",
      "metadata": {
        "id": "NlCf92svH8e_"
      },
      "source": [],
      "id": "NlCf92svH8e_"
    },
    {
      "cell_type": "markdown",
      "metadata": {
        "id": "DEOrd_fSH8e_"
      },
      "source": [
        "## **Parte 4: Regresión Múltiple y Colinealidad**\n",
        "\n",
        "Volviendo a tu caso de la Parte 1 (con múltiples variables).\n",
        "\n",
        "1.  Escribe el **vector de variables** $\\vec{X}$ y la **respuesta** $Y$.\n",
        "2.  Explica cómo interpretarías el **coeficiente** de una de tus variables clave (incluyendo unidades y el sentido de la relación: positiva o negativa).\n",
        "3.  Si sospecharas que existe **colinealidad** entre tus variables, menciona **dos acciones** que podrías tomar para mitigarla."
      ],
      "id": "DEOrd_fSH8e_"
    },
    {
      "cell_type": "markdown",
      "metadata": {
        "id": "REUWPUP_H8fA"
      },
      "source": [
        "**Respuesta (escribe aquí):** Aquí tienes un ejemplo completo para la Parte 4, siguiendo tu caso de predicción de inventarios con múltiples variables:\n",
        "\n",
        "### 1. Vector de Variables $ \\vec{X} $ y Respuesta $ Y $\n",
        "\n",
        "- Vector de variables $ \\vec{X} $:\n",
        "  - Demanda registrada por período (unidades)\n",
        "  - Tiempo de reposición (días)\n",
        "  - Volumen de pedidos (unidades)\n",
        "  - Frecuencia de errores en recepción (incidencias)\n",
        "  - Tipo de producto (categórica)\n",
        "\n",
        "- Respuesta $ Y $: Nivel de inventario final en almacén (unidades)\n",
        "\n",
        "### 2. Interpretación del Coeficiente de una Variable Clave\n",
        "\n",
        "Si el coeficiente de la variable “Demanda registrada por período” es, por ejemplo, $ -0.8 $, se interpreta así: por cada unidad adicional en la demanda registrada, el nivel de inventario final esperado disminuye en 0.8 unidades, manteniendo las demás variables constantes. La relación es negativa y las unidades corresponden a unidades de inventario por cada unidad de demanda.\n",
        "### 3. Acciones para Mitigar la Colinealidad\n",
        "\n",
        "Si se sospecha colinealidad entre variables:\n",
        "- Eliminar o combinar variables altamente correlacionadas (por ejemplo, quedarse solo con una si “Volumen de pedidos” y “Demanda registrada” son muy similares).\n",
        "- Aplicar técnicas de regularización como regresión Ridge o Lasso, que ayudan a reducir la sensibilidad a la multicolinealidad al penalizar los coeficientes de variables redundantes."
      ],
      "id": "REUWPUP_H8fA"
    },
    {
      "cell_type": "markdown",
      "metadata": {
        "id": "Kfz2bBkzH8fA"
      },
      "source": [
        "---"
      ],
      "id": "Kfz2bBkzH8fA"
    },
    {
      "cell_type": "markdown",
      "metadata": {
        "id": "d0sQYW3DH8fA"
      },
      "source": [
        "## **Parte 5: Interacciones y Multicolinealidad (VIF)**\n",
        "\n",
        "1.  Plantea un caso con una variable $Y$ y entre 4 y 6 variables $X$. ¿Qué término de **interacción** entre dos variables podrías añadir al modelo y **por qué** crees que sería útil?\n",
        "2.  Si al calcular el Factor de Inflación de la Varianza (VIF) para una variable, obtienes un valor alto (ej. > 10), menciona **dos acciones** que podrías tomar para solucionarlo."
      ],
      "id": "d0sQYW3DH8fA"
    },
    {
      "cell_type": "markdown",
      "metadata": {
        "id": "tEgefQ1cH8fA"
      },
      "source": [
        "**Respuesta (escribe aquí):** Parte 5: Interacciones y Multicolinealidad (VIF)\n",
        "Interacción entre variables:\n",
        "\n",
        "Caso: Variable dependiente\n",
        "Y\n",
        "Y: nivel de inventario final. Variables independientes\n",
        "X\n",
        "X: demanda registrada, tiempo de reposición, volumen de pedidos, frecuencia de errores, tipo de producto, temporada.\n",
        "\n",
        "Término de interacción: Puedes agregar una interacción demanda registrada × temporada. Esto es útil porque puede capturar que el efecto de la demanda en el inventario varía según la época del año (temporada alta vs baja).\n",
        "\n",
        "Acciones si el VIF es alto (>10):\n",
        "\n",
        "Eliminar una de las variables independientes que estén muy correlacionadas entre sí para reducir la multicolinealidad.\n",
        "\n",
        "Aplicar técnicas de regularización (como Ridge/Lasso) o resumir variables correlacionadas usando Análisis de Componentes Principales (PCA)."
      ],
      "id": "tEgefQ1cH8fA"
    },
    {
      "cell_type": "markdown",
      "metadata": {
        "id": "8XdQIyu_H8fB"
      },
      "source": [
        "---"
      ],
      "id": "8XdQIyu_H8fB"
    },
    {
      "cell_type": "markdown",
      "metadata": {
        "id": "XKsr-uPlH8fB"
      },
      "source": [
        "## **Parte 6: Variables Categóricas e Interacciones**\n",
        "\n",
        "1.  Define una **variable categórica** para tu caso (puedes inventarla si no la tenías). Elige una de sus categorías como el nivel **base** o de referencia y **justifica** tu elección.\n",
        "2.  Crea una **interacción** entre una variable numérica y la variable categórica que definiste. Explica cómo se interpretaría el coeficiente de esta interacción."
      ],
      "id": "XKsr-uPlH8fB"
    },
    {
      "cell_type": "markdown",
      "metadata": {
        "id": "7i_JBwwbH8fC"
      },
      "source": [
        "**Respuesta (escribe aquí):** Parte 6: Variables Categóricas e Interacciones\n",
        "Variable categórica definida y justificación:\n",
        "\n",
        "Variable categórica: Tipo de producto (A, B, C).\n",
        "\n",
        "Nivel base: Producto tipo A. Se elige como base por ser el más vendido y más representativo de la operación, lo cual facilita la interpretación de los coeficientes de otras categorías en comparación a este.\n",
        "\n",
        "Interacción y su interpretación:\n",
        "\n",
        "Ejemplo: Interacción entre volumen de pedidos (numérica) y tipo de producto (categórica).\n",
        "\n",
        "Interpretación: El coeficiente de la interacción muestra cuánto cambia el efecto del volumen de pedidos en el inventario final específicamente para un tipo de producto frente al producto base. Por ejemplo, si la interacción es positiva para tipo B, indica que aumentar el volumen de pedidos tiene un mayor impacto en el inventario final para productos tipo B comparado con el tipo A."
      ],
      "id": "7i_JBwwbH8fC"
    },
    {
      "cell_type": "markdown",
      "metadata": {
        "id": "DjYrQWpqH8fC"
      },
      "source": [
        "---"
      ],
      "id": "DjYrQWpqH8fC"
    },
    {
      "cell_type": "markdown",
      "metadata": {
        "id": "mG9YJpeoH8fC"
      },
      "source": [
        "## **Parte 7: Conceptos Clave de Clasificación**\n",
        "\n",
        "Aunque el taller se centra en regresión, estos conceptos son fundamentales en Machine Learning.\n",
        "\n",
        "1.  Explica qué es la **curva ROC** y para qué se utiliza en un problema de clasificación.\n",
        "2.  Define el concepto de **accuracy** (exactitud) y menciona una situación en la que podría ser una métrica engañosa.\n",
        "3.  Describe qué es una **matriz de confusión** y cómo se interpretan sus componentes (Verdaderos Positivos, Falsos Positivos, Verdaderos Negativos, Falsos Negativos)."
      ],
      "id": "mG9YJpeoH8fC"
    },
    {
      "cell_type": "markdown",
      "metadata": {
        "id": "aq-cYN3nH8fD"
      },
      "source": [
        "**Respuesta (escribe aquí):** 1. Curva ROC\n",
        "La curva ROC (Receiver Operating Characteristic) es una herramienta gráfica usada para evaluar el desempeño de modelos de clasificación binaria. Representa la relación entre la tasa de verdaderos positivos (sensibilidad) y la tasa de falsos positivos para diferentes umbrales de decisión. Es útil porque permite comparar la capacidad de separación del modelo en distintos escenarios, ayudando a elegir el mejor umbral para maximizar la discriminación entre clases.\n",
        "\n",
        "2. Accuracy\n",
        "El concepto de accuracy (exactitud) se refiere a la proporción de predicciones correctas sobre el total de casos evaluados. Por ejemplo, en un problema de detección de fallas donde solo el 1% de los productos son defectuosos, un clasificador que marque todo como “no defectuoso” tendrá una accuracy del 99%, pero no será útil porque ignora los fallos reales—por eso puede ser una métrica engañosa en problemas desbalanceados.\n",
        "\n",
        "3. Matriz de Confusión\n",
        "La matriz de confusión es una tabla de doble entrada que resume el desempeño de un clasificador mostrando el número de aciertos y errores en cada clase. Sus componentes se interpretan así:\n",
        "\n",
        "Verdaderos Positivos (VP): casos positivos correctamente identificados.\n",
        "\n",
        "Falsos Positivos (FP): casos negativos incorrectamente identificados como positivos.\n",
        "\n",
        "Verdaderos Negativos (VN): casos negativos correctamente identificados.\n",
        "\n",
        "Falsos Negativos (FN): casos positivos no captados por el modelo.\n",
        "\n",
        "Esta matriz ayuda a entender el tipo de errores que comete el modelo y a seleccionar métricas complementarias más precisas para cada situación.\n",
        "\n"
      ],
      "id": "aq-cYN3nH8fD"
    }
  ],
  "metadata": {
    "kernelspec": {
      "display_name": "Python 3",
      "language": "python",
      "name": "python3"
    },
    "language_info": {
      "name": "python",
      "version": "3.x"
    },
    "colab": {
      "provenance": []
    }
  },
  "nbformat": 4,
  "nbformat_minor": 5
}